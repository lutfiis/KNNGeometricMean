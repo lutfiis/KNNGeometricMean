{
  "nbformat": 4,
  "nbformat_minor": 0,
  "metadata": {
    "colab": {
      "name": "skripsi-1.ipynb",
      "provenance": [],
      "collapsed_sections": [],
      "mount_file_id": "1AkUZG1f4TUPZLAzGKxQB0wVQulc2QPGJ",
      "authorship_tag": "ABX9TyM5AMFmp23mYryy/zWG8uW7",
      "include_colab_link": true
    },
    "kernelspec": {
      "display_name": "Python 3",
      "name": "python3"
    }
  },
  "cells": [
    {
      "cell_type": "markdown",
      "metadata": {
        "id": "view-in-github",
        "colab_type": "text"
      },
      "source": [
        "<a href=\"https://colab.research.google.com/github/lutfiis/knn/blob/main/Prototype%20Generation%20in%20KNN.ipynb\" target=\"_parent\"><img src=\"https://colab.research.google.com/assets/colab-badge.svg\" alt=\"Open In Colab\"/></a>"
      ]
    },
    {
      "cell_type": "markdown",
      "metadata": {
        "id": "cCxeVAgk4OnS"
      },
      "source": [
        "# Import"
      ]
    },
    {
      "cell_type": "code",
      "metadata": {
        "id": "SePPVdSs-onB"
      },
      "source": [
        "import numpy as np\n",
        "import pandas as pd\n",
        "import matplotlib.pyplot as plt\n",
        "import missingno as msno\n",
        "import time\n",
        "\n",
        "from sklearn.neighbors import KNeighborsClassifier\n",
        "from sklearn.model_selection import train_test_split\n",
        "from sklearn.model_selection import StratifiedKFold\n",
        "from sklearn.model_selection import cross_val_score\n",
        "from sklearn.model_selection import GridSearchCV\n",
        "from sklearn.pipeline import Pipeline\n",
        "from sklearn.compose import ColumnTransformer\n",
        "from sklearn.impute import SimpleImputer\n",
        "from sklearn.cluster import KMeans\n",
        "from sklearn.cluster import MiniBatchKMeans\n",
        "from sklearn.preprocessing import MinMaxScaler,OneHotEncoder,LabelEncoder,OrdinalEncoder\n",
        "from sklearn import metrics\n",
        "from scipy import stats\n",
        "from collections import defaultdict"
      ],
      "execution_count": null,
      "outputs": []
    },
    {
      "cell_type": "markdown",
      "metadata": {
        "id": "-UXIFO6324PR"
      },
      "source": [
        "\n",
        "# Preprocessing"
      ]
    },
    {
      "cell_type": "code",
      "metadata": {
        "colab": {
          "base_uri": "https://localhost:8080/",
          "height": 293
        },
        "id": "y56_Q5H8ARtc",
        "outputId": "c9d3abde-ca76-40d0-a6e9-cfc70a1efc01"
      },
      "source": [
        "dataset = {\n",
        "    1:'adult',\n",
        "    2:'letter',\n",
        "    3:'magic',\n",
        "    4:'penbased',\n",
        "    5:'shuttle',\n",
        "    6:'skin',\n",
        "    7:'chess',\n",
        "}\n",
        "\n",
        "uses_dataset = dataset[6]\n",
        "\n",
        "df = pd.read_csv('drive/MyDrive/Dataset/'+uses_dataset+'.csv')\n",
        "print(df.columns)\n",
        "print(df.shape)\n",
        "print(df.Class_label.value_counts())\n",
        "df.head()"
      ],
      "execution_count": null,
      "outputs": [
        {
          "output_type": "stream",
          "name": "stdout",
          "text": [
            "Index(['A1', 'A2', 'A3', 'Class_label'], dtype='object')\n",
            "(245057, 4)\n",
            "2    194198\n",
            "1     50859\n",
            "Name: Class_label, dtype: int64\n"
          ]
        },
        {
          "output_type": "execute_result",
          "data": {
            "text/html": [
              "<div>\n",
              "<style scoped>\n",
              "    .dataframe tbody tr th:only-of-type {\n",
              "        vertical-align: middle;\n",
              "    }\n",
              "\n",
              "    .dataframe tbody tr th {\n",
              "        vertical-align: top;\n",
              "    }\n",
              "\n",
              "    .dataframe thead th {\n",
              "        text-align: right;\n",
              "    }\n",
              "</style>\n",
              "<table border=\"1\" class=\"dataframe\">\n",
              "  <thead>\n",
              "    <tr style=\"text-align: right;\">\n",
              "      <th></th>\n",
              "      <th>A1</th>\n",
              "      <th>A2</th>\n",
              "      <th>A3</th>\n",
              "      <th>Class_label</th>\n",
              "    </tr>\n",
              "  </thead>\n",
              "  <tbody>\n",
              "    <tr>\n",
              "      <th>0</th>\n",
              "      <td>74</td>\n",
              "      <td>85</td>\n",
              "      <td>123</td>\n",
              "      <td>1</td>\n",
              "    </tr>\n",
              "    <tr>\n",
              "      <th>1</th>\n",
              "      <td>73</td>\n",
              "      <td>84</td>\n",
              "      <td>122</td>\n",
              "      <td>1</td>\n",
              "    </tr>\n",
              "    <tr>\n",
              "      <th>2</th>\n",
              "      <td>72</td>\n",
              "      <td>83</td>\n",
              "      <td>121</td>\n",
              "      <td>1</td>\n",
              "    </tr>\n",
              "    <tr>\n",
              "      <th>3</th>\n",
              "      <td>70</td>\n",
              "      <td>81</td>\n",
              "      <td>119</td>\n",
              "      <td>1</td>\n",
              "    </tr>\n",
              "    <tr>\n",
              "      <th>4</th>\n",
              "      <td>70</td>\n",
              "      <td>81</td>\n",
              "      <td>119</td>\n",
              "      <td>1</td>\n",
              "    </tr>\n",
              "  </tbody>\n",
              "</table>\n",
              "</div>"
            ],
            "text/plain": [
              "   A1  A2   A3  Class_label\n",
              "0  74  85  123            1\n",
              "1  73  84  122            1\n",
              "2  72  83  121            1\n",
              "3  70  81  119            1\n",
              "4  70  81  119            1"
            ]
          },
          "metadata": {},
          "execution_count": 25
        }
      ]
    },
    {
      "cell_type": "code",
      "metadata": {
        "colab": {
          "base_uri": "https://localhost:8080/"
        },
        "id": "fPXejX7OUm2O",
        "outputId": "d5b05944-4a49-480d-979c-2c20102f5d43"
      },
      "source": [
        "X = df.drop(columns=\"Class_label\").copy()\n",
        "y = df.Class_label\n",
        "\n",
        "# X_train, X_test, y_train, y_test = train_test_split(X, y, test_size=0.2, stratify=y, random_state=42)\n",
        "# X_train.shape, X_test.shape, y_train.shape, y_test.shape\n",
        "\n",
        "num_columns = ['FLength', 'FWidth', 'FSize', 'FConc', 'FConc1', 'FAsym', 'FM3Long',\n",
        "       'FM3Trans', 'FAlpha', 'FDist']\n",
        "cat_columns = []\n",
        "pass_columns = []\n",
        "\n",
        "X.shape"
      ],
      "execution_count": null,
      "outputs": [
        {
          "output_type": "execute_result",
          "data": {
            "text/plain": [
              "(245057, 3)"
            ]
          },
          "metadata": {},
          "execution_count": 26
        }
      ]
    },
    {
      "cell_type": "code",
      "metadata": {
        "id": "Wk70q7PDFbjv"
      },
      "source": [
        "#  numerical\n",
        "num_pipe = Pipeline([\n",
        "    # (\"imputer\",SimpleImputer(strategy=\"mean\")),\n",
        "    (\"scaler\",MinMaxScaler(feature_range=(1,2)))\n",
        "])\n",
        "#  categorical\n",
        "cat_pipe = Pipeline([\n",
        "    # (\"imputer\",SimpleImputer(strategy=\"most_frequent\")),\n",
        "    (\"encoder\",OrdinalEncoder())\n",
        "])\n",
        "# column transformer\n",
        "preprocessor = ColumnTransformer([\n",
        "    (\"numeric\", num_pipe, num_columns),\n",
        "    (\"categoric\", cat_pipe, cat_columns)],\n",
        "    remainder='passthrough'\n",
        ")"
      ],
      "execution_count": null,
      "outputs": []
    },
    {
      "cell_type": "code",
      "metadata": {
        "colab": {
          "base_uri": "https://localhost:8080/"
        },
        "id": "Pnx5dRVcv40x",
        "outputId": "920882ca-e85b-4871-cbc9-54234ea16b4d"
      },
      "source": [
        "len_50 = len(df.index) // 2\n",
        "len_75 = len(df.index) // 4\n",
        "condensed_50 = MiniBatchKMeans(n_clusters=len_50,random_state=42,batch_size=len_50,max_iter=10)\n",
        "condensed_75 = MiniBatchKMeans(n_clusters=len_75,random_state=42,batch_size=len_75,max_iter=10)\n",
        "\n",
        "preprocessor.fit(X)\n",
        "X_pre = preprocessor.transform(X)\n",
        "X_pre = pd.DataFrame(X_pre,columns=num_columns+cat_columns+pass_columns)\n",
        "if cat_columns :\n",
        "    X_pre[cat_columns] +=1\n",
        "df_pre = X_pre.copy()\n",
        "df_pre['Class_label'] = y\n",
        "print(df_pre.head(10))\n",
        "clustered_X_pre_50 = X_pre.copy()\n",
        "clustered_X_pre_75 = X_pre.copy()\n",
        "cts_50 = time.time()\n",
        "clustered_50 = condensed_50.fit(X_pre)\n",
        "cte_50 = time.time()\n",
        "cts_75 = time.time()\n",
        "clustered_75 = condensed_75.fit(X_pre)\n",
        "cte_75 = time.time()\n",
        "clustered_X_pre_50['partisi'] = clustered_50.labels_\n",
        "clustered_X_pre_75['partisi'] = clustered_75.labels_\n",
        "\n",
        "X_pre.head()\n",
        "print(\"con 50 time= \"+str(cte_50 - cts_50)+\" detik\")\n",
        "print(\"con 75 time= \"+str(cte_75 - cts_75)+\" detik\")"
      ],
      "execution_count": null,
      "outputs": [
        {
          "output_type": "stream",
          "name": "stdout",
          "text": [
            "    FLength    FWidth     FSize  ...    FAlpha     FDist  Class_label\n",
            "0  1.074306  1.062415  1.208043  ...  1.445467  1.163066            g\n",
            "1  1.082815  1.045727  1.170668  ...  1.070677  1.412679            g\n",
            "2  1.478241  1.530579  1.626818  ...  1.855111  1.516926            g\n",
            "3  1.059212  1.037338  1.117445  ...  1.116100  1.233582            g\n",
            "4  1.214774  1.120603  1.360674  ...  1.051644  1.718582            g\n",
            "5  1.143502  1.082495  1.285985  ...  1.040144  1.479113            g\n",
            "6  1.133265  1.067698  1.322856  ...  1.053244  1.440651            g\n",
            "7  1.068223  1.053668  1.180603  ...  1.009022  1.477163            g\n",
            "8  1.278724  1.181434  1.654258  ...  1.053933  1.499604            g\n",
            "9  1.128764  1.059284  1.188439  ...  1.087500  1.204274            g\n",
            "\n",
            "[10 rows x 11 columns]\n",
            "con 50 time= 82.64281296730042 detik\n",
            "con 75 time= 33.999916553497314 detik\n"
          ]
        }
      ]
    },
    {
      "cell_type": "code",
      "metadata": {
        "id": "J2PtHKf83mUE"
      },
      "source": [
        "#save preprocessed data to csv\n",
        "df_pre.to_csv('drive/MyDrive/Dataset/result/'+uses_dataset+'/'+uses_dataset+'_preprocessed.csv')\n",
        "#save preprocessed data to excel\n",
        "df_pre.to_excel('drive/MyDrive/Dataset/result/'+uses_dataset+'/'+uses_dataset+'_preprocessed.xlsx')"
      ],
      "execution_count": null,
      "outputs": []
    },
    {
      "cell_type": "code",
      "source": [
        "for train_index, test_index in fold:\n",
        "    X_train, y_train =X.iloc[train_index], y.iloc[train_index]\n",
        "    X_test, y_test = X.iloc[test_index], y.iloc[test_index]"
      ],
      "metadata": {
        "id": "2Xm4JkOggtYE"
      },
      "execution_count": null,
      "outputs": []
    },
    {
      "cell_type": "markdown",
      "metadata": {
        "id": "YTiWTlih4X65"
      },
      "source": [
        "# Algo"
      ]
    },
    {
      "cell_type": "code",
      "metadata": {
        "id": "hoG9O-HT3xrz"
      },
      "source": [
        "skf = StratifiedKFold(n_splits=10,shuffle=True,random_state=42)\n",
        "fold = skf.split(X, y)\n",
        "y_true = []\n",
        "y_pred = defaultdict(list)\n",
        "condensed_y_pred_50 = defaultdict(list)\n",
        "condensed_y_pred_75 = defaultdict(list)\n",
        "index = 0\n",
        "\n",
        "for train_index, test_index in fold:\n",
        "    index += 1\n",
        "    X_train, clustered_X_train_50, clustered_X_train_75, y_train =X_pre.iloc[train_index], clustered_X_pre_50.iloc[train_index], clustered_X_pre_75.iloc[train_index], y.iloc[train_index]\n",
        "    X_test, y_test = X_pre.iloc[test_index], y.iloc[test_index]\n",
        "\n",
        "    # X_train_pre = preprocessor.transform(X_train)\n",
        "    # X_test_pre = preprocessor.transform(X_test)\n",
        "    # X_pre = pd.DataFrame(X_train_pre,columns=num_columns+cat_columns)\n",
        "    \n",
        "    # adding class and pratition columns\n",
        "    clustered_X_50 = clustered_X_train_50.copy()\n",
        "    clustered_X_50 = clustered_X_50.set_index(y_train.index)\n",
        "    clustered_X_50['class_label'] = y_train\n",
        "    \n",
        "    clustered_X_75 = clustered_X_train_75.copy()\n",
        "    clustered_X_75 = clustered_X_75.set_index(y_train.index)\n",
        "    clustered_X_75['class_label'] = y_train\n",
        "    \n",
        "    # condensed 50 %\n",
        "    # get all column name\n",
        "    column = clustered_X_50.columns\n",
        "    \n",
        "    # get all partitions (for iteration)\n",
        "    partitions = clustered_X_50.partisi.unique()\n",
        "\n",
        "    # group train set by partition\n",
        "    partitions_group = clustered_X_50.groupby('partisi')\n",
        "\n",
        "    # condensed set init\n",
        "    condensed_set_50 = []\n",
        "\n",
        "    # iteration for partition\n",
        "    for i in partitions :\n",
        "        # get partition data set\n",
        "        partitions_group_by = partitions_group.get_group(i)\n",
        "\n",
        "        # get partition data set labels (for iteration)\n",
        "        partitions_class = partitions_group_by.class_label.unique()\n",
        "\n",
        "        # group partition data set by class\n",
        "        partitions_class_group = partitions_group_by.groupby('class_label')\n",
        "\n",
        "        # list of gmean in partition init\n",
        "        list_of_gmean_group_by_partition = []\n",
        "\n",
        "        # iteration for class\n",
        "        for j in partitions_class :\n",
        "            # get class data set\n",
        "            partitions_class_group_by = partitions_class_group.get_group(j)\n",
        "\n",
        "            # find gmean of class data set\n",
        "            gmean = stats.gmean(partitions_class_group_by.drop(columns=[\"partisi\",\"class_label\"]).iloc[:,:]).tolist()\n",
        "\n",
        "            # adding back class and partition column\n",
        "            gmean_with_class_and_partition = gmean + [i,j]\n",
        "\n",
        "            # append to gmean list\n",
        "            list_of_gmean_group_by_partition.append(gmean_with_class_and_partition)\n",
        "\n",
        "        # add list of class gmean to condensed set\n",
        "        condensed_set_50 = condensed_set_50 + list_of_gmean_group_by_partition\n",
        "\n",
        "    # create condensed set dataframe\n",
        "    condensed_set_50_df = pd.DataFrame(condensed_set_50, columns = column)\n",
        "    \n",
        "    # split condensed set feature with class and partition\n",
        "    X_condensed_50 = condensed_set_50_df.drop(columns = ['class_label','partisi'])\n",
        "    y_condensed_50 = condensed_set_50_df.class_label\n",
        "    p_condensed_50 = condensed_set_50_df.partisi\n",
        "    \n",
        "    # condensed 75 %\n",
        "    # get all column name\n",
        "    column = clustered_X_75.columns\n",
        "    \n",
        "    # get all partitions (for iteration)\n",
        "    partitions = clustered_X_75.partisi.unique()\n",
        "\n",
        "    # group train set by partition\n",
        "    partitions_group = clustered_X_75.groupby('partisi')\n",
        "\n",
        "    # condensed set init\n",
        "    condensed_set_75 = []\n",
        "\n",
        "    # iteration for partition\n",
        "    for i in partitions :\n",
        "        # get partition data set\n",
        "        partitions_group_by = partitions_group.get_group(i)\n",
        "\n",
        "        # get partition data set labels (for iteration)\n",
        "        partitions_class = partitions_group_by.class_label.unique()\n",
        "\n",
        "        # group partition data set by class\n",
        "        partitions_class_group = partitions_group_by.groupby('class_label')\n",
        "\n",
        "        # list of gmean in partition init\n",
        "        list_of_gmean_group_by_partition = []\n",
        "\n",
        "        # iteration for class\n",
        "        for j in partitions_class :\n",
        "            # get class data set\n",
        "            partitions_class_group_by = partitions_class_group.get_group(j)\n",
        "\n",
        "            # find gmean of class data set\n",
        "            gmean = stats.gmean(partitions_class_group_by.drop(columns=[\"partisi\",\"class_label\"]).iloc[:,:]).tolist()\n",
        "\n",
        "            # adding back class and partition column\n",
        "            gmean_with_class_and_partition = gmean + [i,j]\n",
        "\n",
        "            # append to gmean list\n",
        "            list_of_gmean_group_by_partition.append(gmean_with_class_and_partition)\n",
        "\n",
        "        # add list of class gmean to condensed set\n",
        "        condensed_set_75 = condensed_set_75 + list_of_gmean_group_by_partition\n",
        "\n",
        "    # create condensed set dataframe\n",
        "    condensed_set_75_df = pd.DataFrame(condensed_set_75, columns = column)\n",
        "    \n",
        "    # split condensed set feature with class and partition\n",
        "    X_condensed_75 = condensed_set_75_df.drop(columns = ['class_label','partisi'])\n",
        "    y_condensed_75 = condensed_set_75_df.class_label\n",
        "    p_condensed_75 = condensed_set_75_df.partisi\n",
        "    \n",
        "    # knn model\n",
        "    neighbours = range(1, 22)\n",
        "\n",
        "    # time\n",
        "    time_con_50 = defaultdict(list)\n",
        "    time_con_75 = defaultdict(list)\n",
        "    time_uncon = defaultdict(list)\n",
        "\n",
        "\n",
        "    # parameter tuning\n",
        "    for i in neighbours:\n",
        "        #condensed 50\n",
        "        condensed_knn_50 = KNeighborsClassifier(n_neighbors=i,p=2,n_jobs=-1)\n",
        "        condensed_knn_50.fit(X_condensed_50,y_condensed_50)\n",
        "        time_str = time.time()\n",
        "        condensed_y_pred_50[i].extend(condensed_knn_50.predict(X_test))\n",
        "        time_end = time.time()\n",
        "        time_con_50[i] = (time_end - time_str)\n",
        "\n",
        "        #condensed 75\n",
        "        condensed_knn_75 = KNeighborsClassifier(n_neighbors=i,p=2,n_jobs=-1)\n",
        "        condensed_knn_75.fit(X_condensed_75,y_condensed_75)\n",
        "        time_str = time.time()\n",
        "        condensed_y_pred_75[i].extend(condensed_knn_75.predict(X_test))\n",
        "        time_end = time.time()\n",
        "        time_con_75[i] = (time_end - time_str)\n",
        "\n",
        "        #non-condensed\n",
        "        knn = KNeighborsClassifier(n_neighbors=i,p=2,n_jobs=-1)\n",
        "        knn.fit(X_train,y_train)\n",
        "        time_str = time.time()\n",
        "        y_pred[i].extend(knn.predict(X_test))\n",
        "        time_end = time.time()\n",
        "        time_uncon[i] = (time_end - time_str)\n",
        "\n",
        "    y_true.extend(y_test)\n",
        "\n",
        "# confusion matrix\n",
        "condensed_confu_50 = defaultdict(list)\n",
        "condensed_confu_75 = defaultdict(list)\n",
        "confu = defaultdict(list)\n",
        "neighbours = range(1, 22)    \n",
        "for i in neighbours:\n",
        "    accuracy = metrics.accuracy_score(y_true, condensed_y_pred_50[i])\n",
        "    precision = metrics.precision_score(y_true, condensed_y_pred_50[i], average='macro')\n",
        "    recall = metrics.recall_score(y_true, condensed_y_pred_50[i], average='macro')\n",
        "    f1 = metrics.f1_score(y_true, condensed_y_pred_50[i], average='macro')\n",
        "    condensed_confu_50[i] = [i, accuracy, precision, recall, f1]\n",
        "\n",
        "    accuracy = metrics.accuracy_score(y_true, condensed_y_pred_75[i])\n",
        "    precision = metrics.precision_score(y_true, condensed_y_pred_75[i], average='macro')\n",
        "    recall = metrics.recall_score(y_true, condensed_y_pred_75[i], average='macro')\n",
        "    f1 = metrics.f1_score(y_true, condensed_y_pred_75[i], average='macro')\n",
        "    condensed_confu_75[i] = [i, accuracy, precision, recall, f1]\n",
        "\n",
        "    accuracy = metrics.accuracy_score(y_true, y_pred[i])\n",
        "    precision = metrics.precision_score(y_true, y_pred[i], average='macro')\n",
        "    recall = metrics.recall_score(y_true, y_pred[i], average='macro')\n",
        "    f1 = metrics.f1_score(y_true, y_pred[i], average='macro')\n",
        "    confu[i] = [i, accuracy, precision, recall, f1]\n",
        "    \n",
        "df_condensed_confu_50 = pd.DataFrame.from_dict(condensed_confu_50, orient='index',columns=['n', 'accuracy', 'precision', 'recall', 'f1'])\n",
        "df_condensed_confu_75 = pd.DataFrame.from_dict(condensed_confu_75, orient='index',columns=['n', 'accuracy', 'precision', 'recall', 'f1'])\n",
        "df_confu = pd.DataFrame.from_dict(confu, orient='index',columns=['n', 'accuracy', 'precision', 'recall', 'f1'])"
      ],
      "execution_count": null,
      "outputs": []
    },
    {
      "cell_type": "code",
      "source": [
        "print(time_start)\n",
        "print(time_end)"
      ],
      "metadata": {
        "id": "yU7PiFRRHKNI"
      },
      "execution_count": null,
      "outputs": []
    },
    {
      "cell_type": "code",
      "metadata": {
        "id": "n0AGkaorZUnR",
        "colab": {
          "base_uri": "https://localhost:8080/",
          "height": 245
        },
        "outputId": "37887fde-2274-4ed6-83f3-aa2929e11b3a"
      },
      "source": [
        "time_predict = pd.DataFrame.from_dict(time_con_50, orient='index', columns = ['con_50'])\n",
        "time_predict['con_75'] = pd.Series(time_con_75)\n",
        "time_predict['uncon'] = pd.Series(time_uncon)\n",
        "\n",
        "# time_predict.head()"
      ],
      "execution_count": null,
      "outputs": [
        {
          "output_type": "error",
          "ename": "NameError",
          "evalue": "ignored",
          "traceback": [
            "\u001b[0;31m---------------------------------------------------------------------------\u001b[0m",
            "\u001b[0;31mNameError\u001b[0m                                 Traceback (most recent call last)",
            "\u001b[0;32m<ipython-input-1-25e4e9e0c061>\u001b[0m in \u001b[0;36m<module>\u001b[0;34m()\u001b[0m\n\u001b[0;32m----> 1\u001b[0;31m \u001b[0mtime_predict\u001b[0m \u001b[0;34m=\u001b[0m \u001b[0mpd\u001b[0m\u001b[0;34m.\u001b[0m\u001b[0mDataFrame\u001b[0m\u001b[0;34m.\u001b[0m\u001b[0mfrom_dict\u001b[0m\u001b[0;34m(\u001b[0m\u001b[0mtime_con_50\u001b[0m\u001b[0;34m,\u001b[0m \u001b[0morient\u001b[0m\u001b[0;34m=\u001b[0m\u001b[0;34m'index'\u001b[0m\u001b[0;34m,\u001b[0m \u001b[0mcolumns\u001b[0m \u001b[0;34m=\u001b[0m \u001b[0;34m[\u001b[0m\u001b[0;34m'con_50'\u001b[0m\u001b[0;34m]\u001b[0m\u001b[0;34m)\u001b[0m\u001b[0;34m\u001b[0m\u001b[0;34m\u001b[0m\u001b[0m\n\u001b[0m\u001b[1;32m      2\u001b[0m \u001b[0mtime_predict\u001b[0m\u001b[0;34m[\u001b[0m\u001b[0;34m'con_75'\u001b[0m\u001b[0;34m]\u001b[0m \u001b[0;34m=\u001b[0m \u001b[0mpd\u001b[0m\u001b[0;34m.\u001b[0m\u001b[0mSeries\u001b[0m\u001b[0;34m(\u001b[0m\u001b[0mtime_con_75\u001b[0m\u001b[0;34m)\u001b[0m\u001b[0;34m\u001b[0m\u001b[0;34m\u001b[0m\u001b[0m\n\u001b[1;32m      3\u001b[0m \u001b[0mtime_predict\u001b[0m\u001b[0;34m[\u001b[0m\u001b[0;34m'uncon'\u001b[0m\u001b[0;34m]\u001b[0m \u001b[0;34m=\u001b[0m \u001b[0mpd\u001b[0m\u001b[0;34m.\u001b[0m\u001b[0mSeries\u001b[0m\u001b[0;34m(\u001b[0m\u001b[0mtime_uncon\u001b[0m\u001b[0;34m)\u001b[0m\u001b[0;34m\u001b[0m\u001b[0;34m\u001b[0m\u001b[0m\n\u001b[1;32m      4\u001b[0m \u001b[0;34m\u001b[0m\u001b[0m\n\u001b[1;32m      5\u001b[0m \u001b[0;31m# time_predict.head()\u001b[0m\u001b[0;34m\u001b[0m\u001b[0;34m\u001b[0m\u001b[0;34m\u001b[0m\u001b[0m\n",
            "\u001b[0;31mNameError\u001b[0m: name 'pd' is not defined"
          ]
        }
      ]
    },
    {
      "cell_type": "code",
      "metadata": {
        "id": "gDwpEvxkkjGX"
      },
      "source": [
        "# save time to csv\n",
        "time_predict.to_csv('drive/MyDrive/Dataset/result/'+uses_dataset+'/'+uses_dataset+'_time_predict.csv')\n",
        "# save time to excel\n",
        "time_predict.to_excel('drive/MyDrive/Dataset/result/'+uses_dataset+'/'+uses_dataset+'_time_predict.xlsx')"
      ],
      "execution_count": null,
      "outputs": []
    },
    {
      "cell_type": "code",
      "metadata": {
        "id": "tsI9vm8ngKyf"
      },
      "source": [
        "# save condensed data train to csv\n",
        "condensed_set_50_df.to_csv('drive/MyDrive/Dataset/result/'+uses_dataset+'/'+uses_dataset+'_condensed_50_data.csv',index=False)\n",
        "condensed_set_75_df.to_csv('drive/MyDrive/Dataset/result/'+uses_dataset+'/'+uses_dataset+'_condensed_75_data.csv',index=False)\n",
        "\n",
        "# save condensed data train to excel\n",
        "condensed_set_50_df.to_excel('drive/MyDrive/Dataset/result/'+uses_dataset+'/'+uses_dataset+'_condensed_50_data.xlsx',index=False)\n",
        "condensed_set_75_df.to_excel('drive/MyDrive/Dataset/result/'+uses_dataset+'/'+uses_dataset+'_condensed_75_data.xlsx',index=False)"
      ],
      "execution_count": null,
      "outputs": []
    },
    {
      "cell_type": "code",
      "metadata": {
        "id": "alzS8QVNVgqM"
      },
      "source": [
        "# save confusion matrix to csv\n",
        "df_condensed_confu_50.to_csv('drive/MyDrive/Dataset/result/'+uses_dataset+'/'+uses_dataset+'_condensed_50_result.csv',index=False)\n",
        "df_condensed_confu_75.to_csv('drive/MyDrive/Dataset/result/'+uses_dataset+'/'+uses_dataset+'_condensed_75_result.csv',index=False)\n",
        "df_confu.to_csv('drive/MyDrive/Dataset/result/'+uses_dataset+'/'+uses_dataset+'_uncondensed_result.csv',index=False)\n",
        "\n",
        "# save confusion matrix to excel\n",
        "df_condensed_confu_50.to_excel('drive/MyDrive/Dataset/result/'+uses_dataset+'/'+uses_dataset+'_condensed_50_result.xlsx')\n",
        "df_condensed_confu_75.to_excel('drive/MyDrive/Dataset/result/'+uses_dataset+'/'+uses_dataset+'_condensed_75_result.xlsx')\n",
        "df_confu.to_excel('drive/MyDrive/Dataset/result/'+uses_dataset+'/'+uses_dataset+'_uncondensed_result.xlsx')"
      ],
      "execution_count": null,
      "outputs": []
    },
    {
      "cell_type": "code",
      "metadata": {
        "id": "YS4MKEoYM-Gb"
      },
      "source": [
        "neighbours = range(1, 22)    \n",
        "for i in neighbours:\n",
        "    matrix_condensed_50 = metrics.confusion_matrix(y_true, condensed_y_pred_50[i],labels=knn.classes_)\n",
        "    matrix_condensed_75 = metrics.confusion_matrix(y_true, condensed_y_pred_75[i],labels=knn.classes_)\n",
        "    matrix_uncondensed = metrics.confusion_matrix(y_true, y_pred[i],labels=knn.classes_)\n",
        "    df_matrix_condensed_50 = pd.DataFrame(matrix_condensed_50,columns=knn.classes_,index=knn.classes_)\n",
        "    df_matrix_condensed_75 = pd.DataFrame(matrix_condensed_75,columns=knn.classes_,index=knn.classes_)\n",
        "    df_matrix_uncondensed = pd.DataFrame(matrix_uncondensed,columns=knn.classes_,index=knn.classes_)\n",
        "    if i == 1 :\n",
        "        with pd.ExcelWriter('drive/MyDrive/Dataset/result/'+uses_dataset+'/'+uses_dataset+'_condensed_50_confusion_matrix.xlsx') as writer:\n",
        "            df_matrix_condensed_50.to_excel(writer, sheet_name='n='+str(i))\n",
        "        with pd.ExcelWriter('drive/MyDrive/Dataset/result/'+uses_dataset+'/'+uses_dataset+'_condensed_75_confusion_matrix.xlsx') as writer:\n",
        "            df_matrix_condensed_75.to_excel(writer, sheet_name='n='+str(i))\n",
        "        with pd.ExcelWriter('drive/MyDrive/Dataset/result/'+uses_dataset+'/'+uses_dataset+'_uncondensed_confusion_matrix.xlsx') as writer:\n",
        "            df_matrix_uncondensed.to_excel(writer, sheet_name='n='+str(i))\n",
        "    else :\n",
        "        with pd.ExcelWriter('drive/MyDrive/Dataset/result/'+uses_dataset+'/'+uses_dataset+'_condensed_50_confusion_matrix.xlsx',mode='a') as writer:\n",
        "            df_matrix_condensed_50.to_excel(writer, sheet_name='n='+str(i))\n",
        "        with pd.ExcelWriter('drive/MyDrive/Dataset/result/'+uses_dataset+'/'+uses_dataset+'_condensed_75_confusion_matrix.xlsx',mode='a') as writer:\n",
        "            df_matrix_condensed_75.to_excel(writer, sheet_name='n='+str(i))\n",
        "        with pd.ExcelWriter('drive/MyDrive/Dataset/result/'+uses_dataset+'/'+uses_dataset+'_uncondensed_confusion_matrix.xlsx',mode='a') as writer:\n",
        "            df_matrix_uncondensed.to_excel(writer, sheet_name='n='+str(i))"
      ],
      "execution_count": null,
      "outputs": []
    },
    {
      "cell_type": "code",
      "metadata": {
        "colab": {
          "base_uri": "https://localhost:8080/"
        },
        "id": "RxnnnOd_XFJ0",
        "outputId": "88056682-0e9a-4370-af36-18a4f01e8792"
      },
      "source": [
        "best_n = df_condensed_confu_50.sort_values(by=['n'], ascending=False)['n'].iloc[0]\n",
        "\n",
        "fig, ax = plt.subplots(figsize=(10,10))\n",
        "disp = metrics.ConfusionMatrixDisplay(metrics.confusion_matrix(y_true, condensed_y_pred_50[best_n]),display_labels=knn.classes_)\n",
        "disp.plot(ax=ax, values_format='')\n",
        "plt.savefig('drive/MyDrive/Dataset/result/'+uses_dataset+'/'+uses_dataset+'_best_n_condensed_50_plot.png')"
      ],
      "execution_count": null,
      "outputs": [
        {
          "output_type": "display_data",
          "data": {
            "image/png": "[encoded data removed]",
            "text/plain": [
              "<Figure size 720x720 with 2 Axes>"
            ]
          },
          "metadata": {
            "needs_background": "light"
          }
        }
      ]
    },
    {
      "cell_type": "code",
      "metadata": {
        "colab": {
          "base_uri": "https://localhost:8080/"
        },
        "id": "S5Zn5SGcH8Lw",
        "outputId": "b5606362-d58b-46ba-e987-48c8e8e4844e"
      },
      "source": [
        "best_n = df_condensed_confu_75.sort_values(by=['n'], ascending=False)['n'].iloc[0]\n",
        "\n",
        "fig, ax = plt.subplots(figsize=(10,10))\n",
        "disp = metrics.ConfusionMatrixDisplay(metrics.confusion_matrix(y_true, condensed_y_pred_75[best_n]),display_labels=knn.classes_)\n",
        "disp.plot(ax=ax, values_format='')\n",
        "plt.savefig('drive/MyDrive/Dataset/result/'+uses_dataset+'/'+uses_dataset+'_best_n_condensed_75_plot.png')"
      ],
      "execution_count": null,
      "outputs": [
        {
          "output_type": "display_data",
          "data": {
            "image/png": "[encoded data removed]",
            "text/plain": [
              "<Figure size 720x720 with 2 Axes>"
            ]
          },
          "metadata": {
            "needs_background": "light"
          }
        }
      ]
    },
    {
      "cell_type": "code",
      "metadata": {
        "colab": {
          "base_uri": "https://localhost:8080/"
        },
        "id": "jfr6aGbsb1cj",
        "outputId": "a26cc0a3-0903-447f-d8f2-6a396f1da9c9"
      },
      "source": [
        "best_n = df_confu.sort_values(by=['n'], ascending=False)['n'].iloc[0]\n",
        "\n",
        "fig, ax = plt.subplots(figsize=(10,10))\n",
        "disp = metrics.ConfusionMatrixDisplay(metrics.confusion_matrix(y_true, y_pred[best_n]),display_labels=knn.classes_)\n",
        "disp.plot(ax=ax, values_format='')\n",
        "plt.savefig('drive/MyDrive/Dataset/result/'+uses_dataset+'/'+uses_dataset+'_best_n_uncondensed_plot.png')"
      ],
      "execution_count": null,
      "outputs": [
        {
          "output_type": "display_data",
          "data": {
            "image/png": "[encoded data removed]",
            "text/plain": [
              "<Figure size 720x720 with 2 Axes>"
            ]
          },
          "metadata": {
            "needs_background": "light"
          }
        }
      ]
    },
    {
      "cell_type": "code",
      "metadata": {
        "id": "55y1sA8MSdql"
      },
      "source": [
        ""
      ],
      "execution_count": null,
      "outputs": []
    }
  ]
}